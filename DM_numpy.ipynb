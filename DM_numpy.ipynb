{
 "cells": [
  {
   "cell_type": "markdown",
   "metadata": {},
   "source": [
    "#### 1. 배열 생성, indexing, slicing, Assigning values, reshape, resize 연습\n",
    "\n",
    "##### (1)1~25 사이의 2의 배수 12개로 1차원 배열(a) 생성, 출력\n",
    "#####  (2)a 의 인덱스 2~5의 요소값을 -20으로 수정, 출력\n",
    "#####  (3)a를 이용하여 3X4 배열(b)로 변경, 출력\n",
    "#####  (4)a를 2X6 배열로 변경, 출력\n",
    "#####  (5)a를 1행의 모든 값을 추출하여 a1을 만들고, a1의 모든 값을 0으로 변경, 출력\n"
   ]
  },
  {
   "cell_type": "code",
   "execution_count": 1,
   "metadata": {},
   "outputs": [],
   "source": [
    "import numpy as np\n"
   ]
  },
  {
   "cell_type": "code",
   "execution_count": 2,
   "metadata": {},
   "outputs": [
    {
     "name": "stdout",
     "output_type": "stream",
     "text": [
      "[ 2  4  6  8 10 12 14 16 18 20 22 24]\n"
     ]
    }
   ],
   "source": [
    "a = np.arange(2,25,2)\n",
    "print(a)\n"
   ]
  },
  {
   "cell_type": "code",
   "execution_count": 3,
   "metadata": {},
   "outputs": [
    {
     "name": "stdout",
     "output_type": "stream",
     "text": [
      "[  2   4 -20 -20 -20 -20  14  16  18  20  22  24]\n"
     ]
    }
   ],
   "source": [
    "a[2:6] = -20\n",
    "print(a)\n"
   ]
  },
  {
   "cell_type": "code",
   "execution_count": 4,
   "metadata": {},
   "outputs": [
    {
     "name": "stdout",
     "output_type": "stream",
     "text": [
      "[[  2   4 -20 -20]\n",
      " [-20 -20  14  16]\n",
      " [ 18  20  22  24]]\n"
     ]
    }
   ],
   "source": [
    "b = a.reshape(3,4)\n",
    "print(b)"
   ]
  },
  {
   "cell_type": "code",
   "execution_count": 5,
   "metadata": {},
   "outputs": [
    {
     "name": "stdout",
     "output_type": "stream",
     "text": [
      "[[  2   4 -20 -20 -20 -20]\n",
      " [ 14  16  18  20  22  24]]\n"
     ]
    }
   ],
   "source": [
    "a = a.reshape(2,6)\n",
    "print(a)"
   ]
  },
  {
   "cell_type": "code",
   "execution_count": 6,
   "metadata": {},
   "outputs": [
    {
     "name": "stdout",
     "output_type": "stream",
     "text": [
      "[[0. 0. 0. 0. 0. 0.]]\n"
     ]
    }
   ],
   "source": [
    "a1 = a[0:1]\n",
    "a1 = np.zeros((1,6))\n",
    "print(a1)"
   ]
  },
  {
   "cell_type": "markdown",
   "metadata": {},
   "source": [
    "### 2. 배열 연산, 함수 연습\n",
    "#### (1)1~10 사이의 임의의 값으로 3X3 배열 x, y생성, 출력\n",
    "\n"
   ]
  },
  {
   "cell_type": "code",
   "execution_count": 7,
   "metadata": {},
   "outputs": [
    {
     "name": "stdout",
     "output_type": "stream",
     "text": [
      "X =  [[ 9.  2.  3.]\n",
      " [ 1. 10.  8.]\n",
      " [ 3.  9.  9.]]\n",
      "Y =  [[ 5. 10.  9.]\n",
      " [ 5.  7.  5.]\n",
      " [ 2.  3.  9.]]\n"
     ]
    }
   ],
   "source": [
    "x = np.round(np.random.random((3,3))*9+1)\n",
    "y = np.round(np.random.random((3,3))*9+1)\n",
    "\n",
    "print(\"X = \" ,x)\n",
    "print(\"Y = \", y)\n"
   ]
  },
  {
   "cell_type": "markdown",
   "metadata": {},
   "source": [
    "#### 2)x의 1, 2 행의 모든 열추출, 출력\n"
   ]
  },
  {
   "cell_type": "code",
   "execution_count": 8,
   "metadata": {},
   "outputs": [
    {
     "name": "stdout",
     "output_type": "stream",
     "text": [
      "[[ 1. 10.  8.]\n",
      " [ 3.  9.  9.]]\n"
     ]
    }
   ],
   "source": [
    "print(x[1:3, :])"
   ]
  },
  {
   "cell_type": "markdown",
   "metadata": {},
   "source": [
    "#### 3)x의 2열의 모든 행 추출, 출력\n"
   ]
  },
  {
   "cell_type": "code",
   "execution_count": 32,
   "metadata": {},
   "outputs": [
    {
     "name": "stdout",
     "output_type": "stream",
     "text": [
      "[[3.]\n",
      " [8.]\n",
      " [9.]]\n"
     ]
    }
   ],
   "source": [
    "print(x[0::,2:3:2])"
   ]
  },
  {
   "cell_type": "markdown",
   "metadata": {},
   "source": [
    "#### 4)x의 0,2열의 1,2 행 추출, 출력\n"
   ]
  },
  {
   "cell_type": "code",
   "execution_count": 22,
   "metadata": {},
   "outputs": [
    {
     "name": "stdout",
     "output_type": "stream",
     "text": [
      "[[1. 8.]\n",
      " [3. 9.]]\n"
     ]
    }
   ],
   "source": [
    "\n",
    "print(x[1:3:,0:3:2])"
   ]
  },
  {
   "cell_type": "markdown",
   "metadata": {},
   "source": [
    "#### 5)x의 각행의 합, 각 열의 합, 출력\n"
   ]
  },
  {
   "cell_type": "code",
   "execution_count": 11,
   "metadata": {},
   "outputs": [
    {
     "name": "stdout",
     "output_type": "stream",
     "text": [
      "X의 각 열의 합 =  [13. 21. 20.]\n",
      "X의 각 행의 합 =  [14. 19. 21.]\n"
     ]
    }
   ],
   "source": [
    "print(\"X의 각 열의 합 = \",x.sum(axis=0))\n",
    "print(\"X의 각 행의 합 = \",x.sum(axis=1))\n",
    "\n"
   ]
  },
  {
   "cell_type": "markdown",
   "metadata": {},
   "source": [
    "#### 6)x의 각행의 최대값, 각 열의 최대값, 출력\n"
   ]
  },
  {
   "cell_type": "code",
   "execution_count": 12,
   "metadata": {},
   "outputs": [
    {
     "name": "stdout",
     "output_type": "stream",
     "text": [
      "X의 각 열의 최대값 = [ 9. 10.  9.]\n",
      "X의 각 행의 최대값 =  [ 9. 10.  9.]\n"
     ]
    }
   ],
   "source": [
    "print(\"X의 각 열의 최대값 =\",x.max(axis=0))\n",
    "print(\"X의 각 행의 최대값 = \",x.max(axis=1))"
   ]
  },
  {
   "cell_type": "markdown",
   "metadata": {},
   "source": [
    "#### (7)x, y 배열의 합, 곱, 내적을 구하여 출력\n"
   ]
  },
  {
   "cell_type": "code",
   "execution_count": 13,
   "metadata": {},
   "outputs": [
    {
     "name": "stdout",
     "output_type": "stream",
     "text": [
      "x =  [[ 9.  2.  3.]\n",
      " [ 1. 10.  8.]\n",
      " [ 3.  9.  9.]]\n",
      "y =  [[ 5. 10.  9.]\n",
      " [ 5.  7.  5.]\n",
      " [ 2.  3.  9.]]\n",
      "x, y 배열의 합 =  [[14. 12. 12.]\n",
      " [ 6. 17. 13.]\n",
      " [ 5. 12. 18.]]\n",
      "x, y 배열의 곱 =  [[ 61. 113. 118.]\n",
      " [ 71. 104. 131.]\n",
      " [ 78. 120. 153.]]\n",
      "x, y 배열의 내적 =  [[ 61. 113. 118.]\n",
      " [ 71. 104. 131.]\n",
      " [ 78. 120. 153.]]\n"
     ]
    }
   ],
   "source": [
    "print(\"x = \",x)\n",
    "print(\"y = \",y)\n",
    "print(\"x, y 배열의 합 = \", x + y)\n",
    "print(\"x, y 배열의 곱 = \",x @ y)\n",
    "print(\"x, y 배열의 내적 = \",x.dot(y))\n"
   ]
  },
  {
   "cell_type": "markdown",
   "metadata": {},
   "source": [
    "### 3. 배열복사, 결합 연습\n",
    "#### (1) 1~3, 10~30, 100~300 3개의 1차원 배열(a1,a2,a3)을 생성하여 행으로 결합하여 y배열 생성\n",
    "#### (2) y배열의 0,2 열을 복사하여 y1, 1열을 복사하여 y2 생성\n",
    "#### (3) y1, y2를 결합하여 yy배열 생성\n",
    "#### (4)yy 배열에서  20~200 범위의 값만을  추출하여  합, 평균 출력\n",
    "\n",
    "배열 복사\n",
    "1. 1 ㅅ씩 10씩 100씩 증가\n",
    "3.  문제 마스크로 만들어서 뽑아 내고 결합\n",
    "비연속 적인 배열을 만들어서 추출\n",
    "2,3 문제 reshape 를 하여 열단위 결합\n"
   ]
  },
  {
   "cell_type": "code",
   "execution_count": 14,
   "metadata": {},
   "outputs": [],
   "source": [
    "a1 = np.arange(1,4,1)\n",
    "a2 = np.arange(10,40,10)\n",
    "a3 = np.arange(100,400,100)\n",
    "\n",
    "\n",
    "#print(a2)\n",
    "#print(a3)"
   ]
  },
  {
   "cell_type": "code",
   "execution_count": 15,
   "metadata": {},
   "outputs": [
    {
     "name": "stdout",
     "output_type": "stream",
     "text": [
      "y =  [[  1   2   3]\n",
      " [ 10  20  30]\n",
      " [100 200 300]]\n"
     ]
    }
   ],
   "source": [
    "y = np.vstack([a1,a2,a3])\n",
    "\n",
    "print(\"y = \",y)"
   ]
  },
  {
   "cell_type": "code",
   "execution_count": 16,
   "metadata": {},
   "outputs": [
    {
     "name": "stdout",
     "output_type": "stream",
     "text": [
      "y1 =  [[  1   3]\n",
      " [ 10  30]\n",
      " [100 300]]\n"
     ]
    }
   ],
   "source": [
    "y1 = y[::1,::2].copy()\n",
    "\n",
    "print(\"y1 = \",y1)"
   ]
  },
  {
   "cell_type": "code",
   "execution_count": 17,
   "metadata": {},
   "outputs": [
    {
     "name": "stdout",
     "output_type": "stream",
     "text": [
      "y2 =  [[  2]\n",
      " [ 20]\n",
      " [200]]\n"
     ]
    }
   ],
   "source": [
    "y2 = y[::,1:2].copy()\n",
    "print(\"y2 = \",y2)"
   ]
  },
  {
   "cell_type": "code",
   "execution_count": 18,
   "metadata": {},
   "outputs": [
    {
     "name": "stdout",
     "output_type": "stream",
     "text": [
      "yy(열로 합침)=  [[  1   3  10  30 100 300   2  20 200]]\n"
     ]
    }
   ],
   "source": [
    "\n",
    "#y1.reshape(1,6)\n",
    "#y2.reshape(1,-1)\n",
    "\n",
    "yy = np.hstack([y1.reshape(1,6),y2.reshape(1,-1)])\n",
    "\n",
    "\n",
    "print(\"yy(열로 합침)= \", yy)\n",
    "\n",
    "\n",
    "\n"
   ]
  },
  {
   "cell_type": "code",
   "execution_count": 19,
   "metadata": {},
   "outputs": [
    {
     "name": "stdout",
     "output_type": "stream",
     "text": [
      "mask =  [[False False False  True  True False False  True  True]]\n",
      "yy[mask] =  [ 30 100  20 200]\n",
      "yy 배열의 20~200 사이의 합 =  350\n",
      "yy 배열의 20~200 사이의 평균 =  87.5\n"
     ]
    }
   ],
   "source": [
    "mask = (yy >= 20) & (yy <=200)\n",
    "\n",
    "print(\"mask = \",mask)\n",
    "print(\"yy[mask] = \",yy[mask])\n",
    "print(\"yy 배열의 20~200 사이의 합 = \",yy[mask].sum())\n",
    "print(\"yy 배열의 20~200 사이의 평균 = \",yy[mask].sum()/yy[mask].size)\n",
    "\n"
   ]
  },
  {
   "cell_type": "code",
   "execution_count": null,
   "metadata": {},
   "outputs": [],
   "source": []
  }
 ],
 "metadata": {
  "kernelspec": {
   "display_name": "Python 3",
   "language": "python",
   "name": "python3"
  },
  "language_info": {
   "codemirror_mode": {
    "name": "ipython",
    "version": 3
   },
   "file_extension": ".py",
   "mimetype": "text/x-python",
   "name": "python",
   "nbconvert_exporter": "python",
   "pygments_lexer": "ipython3",
   "version": "3.7.1"
  }
 },
 "nbformat": 4,
 "nbformat_minor": 2
}
