{
 "cells": [
  {
   "cell_type": "markdown",
   "metadata": {},
   "source": [
    "# 실습 4 \n",
    "1. 5명의 id.pwd,age,sex를 저장할 수 있는 dataFrame 생성 \n",
    "\n",
    "* seris의  dict이용하여 생성\n",
    "\n",
    "* index    : id\n",
    "\n",
    "* column : pwd,age,sex"
   ]
  },
  {
   "cell_type": "code",
   "execution_count": 1,
   "metadata": {},
   "outputs": [],
   "source": [
    "\n",
    "import numpy as np\n",
    "import pandas as pd\n",
    "\n",
    "from IPython.display import display\n"
   ]
  },
  {
   "cell_type": "markdown",
   "metadata": {},
   "source": [
    " (1) pandas의 Series를 이용 하여 구성(리스트와 비슷하다)\n",
    " \n",
    " (2) 딕션너리 형태로 pwd,age,sex를 구성한다.\n",
    " \n",
    " (3) DataFrame -> 복수의 Series를 합친다.\n",
    " \n",
    " (4) Frame의 인덱스(행)를 id 로 설정.\n",
    " \n",
    " (5) 열은 pwd,age,sex로 차례로 설정.\n",
    " "
   ]
  },
  {
   "cell_type": "code",
   "execution_count": 2,
   "metadata": {},
   "outputs": [
    {
     "data": {
      "text/html": [
       "<div>\n",
       "<style scoped>\n",
       "    .dataframe tbody tr th:only-of-type {\n",
       "        vertical-align: middle;\n",
       "    }\n",
       "\n",
       "    .dataframe tbody tr th {\n",
       "        vertical-align: top;\n",
       "    }\n",
       "\n",
       "    .dataframe thead th {\n",
       "        text-align: right;\n",
       "    }\n",
       "</style>\n",
       "<table border=\"1\" class=\"dataframe\">\n",
       "  <thead>\n",
       "    <tr style=\"text-align: right;\">\n",
       "      <th></th>\n",
       "      <th>pwd</th>\n",
       "      <th>age</th>\n",
       "      <th>sex</th>\n",
       "    </tr>\n",
       "  </thead>\n",
       "  <tbody>\n",
       "    <tr>\n",
       "      <th>kjs</th>\n",
       "      <td>q1w2w3</td>\n",
       "      <td>20</td>\n",
       "      <td>1</td>\n",
       "    </tr>\n",
       "    <tr>\n",
       "      <th>jie</th>\n",
       "      <td>ted551</td>\n",
       "      <td>25</td>\n",
       "      <td>0</td>\n",
       "    </tr>\n",
       "    <tr>\n",
       "      <th>toe</th>\n",
       "      <td>9i8u7y</td>\n",
       "      <td>35</td>\n",
       "      <td>1</td>\n",
       "    </tr>\n",
       "    <tr>\n",
       "      <th>tod</th>\n",
       "      <td>0d04e</td>\n",
       "      <td>22</td>\n",
       "      <td>0</td>\n",
       "    </tr>\n",
       "    <tr>\n",
       "      <th>res</th>\n",
       "      <td>0w3ki2</td>\n",
       "      <td>32</td>\n",
       "      <td>1</td>\n",
       "    </tr>\n",
       "  </tbody>\n",
       "</table>\n",
       "</div>"
      ],
      "text/plain": [
       "        pwd  age  sex\n",
       "kjs  q1w2w3   20    1\n",
       "jie  ted551   25    0\n",
       "toe  9i8u7y   35    1\n",
       "tod   0d04e   22    0\n",
       "res  0w3ki2   32    1"
      ]
     },
     "metadata": {},
     "output_type": "display_data"
    }
   ],
   "source": [
    "id = ['kjs','jie','toe','tod','res']\n",
    "\n",
    "arr =pd.DataFrame( \n",
    "    {    \n",
    "         \"pwd\"   : pd.Series(['q1w2w3','ted551','9i8u7y','0d04e','0w3ki2'],dtype='str'),\n",
    "         \"age\"   : pd.Series([20,25,35,22,32],dtype='int32'),\n",
    "         \"sex\"   : pd.Series([1,0,1,0,1],dtype='int32')\n",
    "      })\n",
    "\n",
    "arr.index = id\n",
    "\n",
    "display(arr)"
   ]
  },
  {
   "cell_type": "markdown",
   "metadata": {},
   "source": [
    "\n",
    "(1)특정 id, 특정 pwd 추출\n",
    "  - loc 행을 인덱싱 하면서 동시에 열도 인덱싱이 가능하다.\n",
    "  - kjs(0) ~ res(4)까지 pwd를  출력 한다.\n"
   ]
  },
  {
   "cell_type": "code",
   "execution_count": 17,
   "metadata": {},
   "outputs": [
    {
     "name": "stdout",
     "output_type": "stream",
     "text": [
      "kjs    q1w2w3\n",
      "jie    ted551\n",
      "toe    9i8u7y\n",
      "tod     0d04e\n",
      "res    0w3ki2\n",
      "Name: pwd, dtype: object\n"
     ]
    }
   ],
   "source": [
    "print(arr.loc[\"kjs\":\"res\",\"pwd\"])"
   ]
  },
  {
   "cell_type": "markdown",
   "metadata": {},
   "source": [
    "(2)상위 3명만 추출 (loc, iloc 사용)\n",
    "\n",
    "iloc : integer positon(몇 번째 row인지)를 통해서 값을 찾는다. label로는 못찾는다."
   ]
  },
  {
   "cell_type": "code",
   "execution_count": 3,
   "metadata": {},
   "outputs": [
    {
     "data": {
      "text/html": [
       "<div>\n",
       "<style scoped>\n",
       "    .dataframe tbody tr th:only-of-type {\n",
       "        vertical-align: middle;\n",
       "    }\n",
       "\n",
       "    .dataframe tbody tr th {\n",
       "        vertical-align: top;\n",
       "    }\n",
       "\n",
       "    .dataframe thead th {\n",
       "        text-align: right;\n",
       "    }\n",
       "</style>\n",
       "<table border=\"1\" class=\"dataframe\">\n",
       "  <thead>\n",
       "    <tr style=\"text-align: right;\">\n",
       "      <th></th>\n",
       "      <th>pwd</th>\n",
       "      <th>age</th>\n",
       "      <th>sex</th>\n",
       "    </tr>\n",
       "  </thead>\n",
       "  <tbody>\n",
       "    <tr>\n",
       "      <th>kjs</th>\n",
       "      <td>q1w2w3</td>\n",
       "      <td>20</td>\n",
       "      <td>1</td>\n",
       "    </tr>\n",
       "    <tr>\n",
       "      <th>jie</th>\n",
       "      <td>ted551</td>\n",
       "      <td>25</td>\n",
       "      <td>0</td>\n",
       "    </tr>\n",
       "    <tr>\n",
       "      <th>toe</th>\n",
       "      <td>9i8u7y</td>\n",
       "      <td>35</td>\n",
       "      <td>1</td>\n",
       "    </tr>\n",
       "  </tbody>\n",
       "</table>\n",
       "</div>"
      ],
      "text/plain": [
       "        pwd  age  sex\n",
       "kjs  q1w2w3   20    1\n",
       "jie  ted551   25    0\n",
       "toe  9i8u7y   35    1"
      ]
     },
     "metadata": {},
     "output_type": "display_data"
    }
   ],
   "source": [
    "display(arr.iloc[:3])"
   ]
  },
  {
   "cell_type": "markdown",
   "metadata": {},
   "source": [
    "loc : label(어떤 이름의 row)을 통해서 값을 찾는다. integer position로는 못찾는다.\n"
   ]
  },
  {
   "cell_type": "code",
   "execution_count": 4,
   "metadata": {},
   "outputs": [
    {
     "data": {
      "text/html": [
       "<div>\n",
       "<style scoped>\n",
       "    .dataframe tbody tr th:only-of-type {\n",
       "        vertical-align: middle;\n",
       "    }\n",
       "\n",
       "    .dataframe tbody tr th {\n",
       "        vertical-align: top;\n",
       "    }\n",
       "\n",
       "    .dataframe thead th {\n",
       "        text-align: right;\n",
       "    }\n",
       "</style>\n",
       "<table border=\"1\" class=\"dataframe\">\n",
       "  <thead>\n",
       "    <tr style=\"text-align: right;\">\n",
       "      <th></th>\n",
       "      <th>pwd</th>\n",
       "      <th>age</th>\n",
       "      <th>sex</th>\n",
       "    </tr>\n",
       "  </thead>\n",
       "  <tbody>\n",
       "    <tr>\n",
       "      <th>kjs</th>\n",
       "      <td>q1w2w3</td>\n",
       "      <td>20</td>\n",
       "      <td>1</td>\n",
       "    </tr>\n",
       "    <tr>\n",
       "      <th>jie</th>\n",
       "      <td>ted551</td>\n",
       "      <td>25</td>\n",
       "      <td>0</td>\n",
       "    </tr>\n",
       "    <tr>\n",
       "      <th>toe</th>\n",
       "      <td>9i8u7y</td>\n",
       "      <td>35</td>\n",
       "      <td>1</td>\n",
       "    </tr>\n",
       "  </tbody>\n",
       "</table>\n",
       "</div>"
      ],
      "text/plain": [
       "        pwd  age  sex\n",
       "kjs  q1w2w3   20    1\n",
       "jie  ted551   25    0\n",
       "toe  9i8u7y   35    1"
      ]
     },
     "metadata": {},
     "output_type": "display_data"
    }
   ],
   "source": [
    "display(arr.loc['kjs':'toe'])"
   ]
  },
  {
   "cell_type": "markdown",
   "metadata": {},
   "source": [
    "(3)나이와 성별만 추출\n",
    "\n",
    "   1.인덱스 슬라이스를 통해서 age,sex열만을 출력 한다. ( 모든행에 , 1열 부터 : 2열까지 모든 값을 불러와라)\n",
    "   \n",
    "   2.라벨을 통해서 age,sex열만을 출력 한다. (모든 행에, colnums 명이 age,sex인 모든 값을 불러와라 )   "
   ]
  },
  {
   "cell_type": "code",
   "execution_count": 5,
   "metadata": {},
   "outputs": [
    {
     "name": "stdout",
     "output_type": "stream",
     "text": [
      "======iloc=======\n",
      "     age  sex\n",
      "kjs   20    1\n",
      "jie   25    0\n",
      "toe   35    1\n",
      "tod   22    0\n",
      "res   32    1\n",
      "======loc=======\n",
      "     age  sex\n",
      "kjs   20    1\n",
      "jie   25    0\n",
      "toe   35    1\n",
      "tod   22    0\n",
      "res   32    1\n"
     ]
    }
   ],
   "source": [
    "print(\"======iloc=======\")\n",
    "print(arr.iloc[:,1:3])\n",
    "\n",
    "print(\"======loc=======\")\n",
    "\n",
    "print(arr.loc[:,\"age\":'sex'])"
   ]
  },
  {
   "cell_type": "markdown",
   "metadata": {},
   "source": [
    "(4)나이가 20대만 추출\n",
    "\n",
    " - loc를 통해서 age행만을 추출 하여 >= 20 & < 30 작은 값만을 추출한다.\n",
    "   (2개의 마스크 행 인덱스를 넣다.)\n",
    " - 두가지 마스크가 True인 경우만 출력.\n",
    " - age가 20보다 크거나 같으면서  30 보다 작은 모든 행이 출력 된다."
   ]
  },
  {
   "cell_type": "code",
   "execution_count": 6,
   "metadata": {},
   "outputs": [
    {
     "name": "stdout",
     "output_type": "stream",
     "text": [
      "        pwd  age  sex\n",
      "kjs  q1w2w3   20    1\n",
      "jie  ted551   25    0\n",
      "tod   0d04e   22    0\n"
     ]
    }
   ],
   "source": [
    "\n",
    "#mask = (arr.iloc[:,1:2]>=20) & (arr.iloc[:,1:2]<30)\n",
    "#mask = arr[arr.age>=20] & arr[arr.age<30] \n",
    "#display(mask)\n",
    "#arr[:].isin(arr[mask])\n",
    "#rint( arr.iloc[(arr[:,1:2].values>=20) & (arr[:,1:2].values<30), :] ) \n",
    "\n",
    "print( arr.loc[(arr['age']>=20) & (arr['age']< 30), :] )\n",
    "\n"
   ]
  },
  {
   "cell_type": "markdown",
   "metadata": {},
   "source": [
    "(5)성별이 male(남)인 경우만 추출\n",
    "  - 0 여자.\n",
    "  - 1 남자.\n",
    "  \n",
    " - loc를 통해서 sex행만을 추출 하여 == 1 일치하는 값을 추출.\n",
    "   (1개의 마스크 행 인덱스를 넣다.)\n",
    " - 마스크가 True인 경우만 출력.\n",
    " - sex가 남자인 모든 행이 출력 된다.\n",
    "  \n"
   ]
  },
  {
   "cell_type": "code",
   "execution_count": 7,
   "metadata": {},
   "outputs": [
    {
     "name": "stdout",
     "output_type": "stream",
     "text": [
      "        pwd  age  sex\n",
      "kjs  q1w2w3   20    1\n",
      "toe  9i8u7y   35    1\n",
      "res  0w3ki2   32    1\n"
     ]
    }
   ],
   "source": [
    "\n",
    "print(arr.loc[arr['sex']==1])"
   ]
  },
  {
   "cell_type": "markdown",
   "metadata": {},
   "source": [
    "(6)나이가 30미만인 여성만 추출\n",
    "\n",
    " - loc를 통해서 sex행 추출 하여 == 0 일치하는 값과  age행이 < 30 작은 값을 추출.\n",
    "   (2개의 마스크 행 인덱스를 넣다.)\n",
    " - 두개의 마스크가 True인 경우만 출력.\n",
    " - sex가 여자이면서 나이가 30보다 작은 모든 행이 출력 된다."
   ]
  },
  {
   "cell_type": "code",
   "execution_count": 8,
   "metadata": {},
   "outputs": [
    {
     "name": "stdout",
     "output_type": "stream",
     "text": [
      "        pwd  age  sex\n",
      "jie  ted551   25    0\n",
      "tod   0d04e   22    0\n"
     ]
    }
   ],
   "source": [
    "print(arr.loc[ (arr['sex']==0) & (arr['age']<30), :])"
   ]
  },
  {
   "cell_type": "code",
   "execution_count": null,
   "metadata": {},
   "outputs": [],
   "source": []
  }
 ],
 "metadata": {
  "kernelspec": {
   "display_name": "Python 3",
   "language": "python",
   "name": "python3"
  },
  "language_info": {
   "codemirror_mode": {
    "name": "ipython",
    "version": 3
   },
   "file_extension": ".py",
   "mimetype": "text/x-python",
   "name": "python",
   "nbconvert_exporter": "python",
   "pygments_lexer": "ipython3",
   "version": "3.7.1"
  }
 },
 "nbformat": 4,
 "nbformat_minor": 2
}
